{
 "cells": [
  {
   "cell_type": "code",
   "execution_count": 1,
   "id": "b6801389",
   "metadata": {},
   "outputs": [],
   "source": [
    "import pickle\n",
    "import numpy as np\n",
    "import pandas as pd\n",
    "import scipy.sparse\n",
    "from sklearn.feature_extraction.text import TfidfVectorizer\n",
    "from textblob import TextBlob as tb\n",
    "#from cltk.tokenize.sentence import TokenizeSentence\n",
    "import re\n",
    "from cltk.stop.classical_hindi.stops import STOPS_LIST\n",
    "import json\n",
    "from sklearn.linear_model import LogisticRegression"
   ]
  },
  {
   "cell_type": "code",
   "execution_count": 2,
   "id": "487c6335",
   "metadata": {},
   "outputs": [],
   "source": [
    "def generate_dataset(filepath):\n",
    "    premise = []\n",
    "    hypothesis = []\n",
    "    label = []\n",
    "    with open(filepath, \"r\") as f:\n",
    "        data = json.load(f)\n",
    "        data = data[list(data.keys())[0]]\n",
    "        #print(data)\n",
    "    for idx, row in enumerate(data):\n",
    "        premise.append(row[\"premise\"])\n",
    "        hypothesis.append(row[\"hypothesis\"])\n",
    "        label.append(row[\"label\"])\n",
    "    df = pd.DataFrame(list(zip(premise, hypothesis,label)),\n",
    "               columns =['premise', 'hypothesis','label'])\n",
    "    return df"
   ]
  },
  {
   "cell_type": "code",
   "execution_count": 3,
   "id": "dedf7fee",
   "metadata": {},
   "outputs": [],
   "source": [
    "def TFIDF_features(data,mode):\n",
    "    # Get the sentences and labels from composite data\n",
    "    list_sentence1 = data['premise']\n",
    "    list_sentence2 = data['hypothesis']\n",
    "    list_gold_label = data['label']\n",
    "    # Merge each sublist (tokens list of each sentence) to a string\n",
    "    corpus_sentence1 = [''.join(item) for item in list_sentence1]\n",
    "    corpus_sentence2 = [''.join(item) for item in list_sentence2]\n",
    "    num_samples = len(list_gold_label)\n",
    "    # Create a composite corpus over which to train the TFIDF Vectorizer\n",
    "    # Corresponding lines of sentence1 and sentence2 are merged together\n",
    "    corpus = [corpus_sentence1[ind] + \" \" + corpus_sentence2[ind] for ind in range(num_samples)]\n",
    "    tfidf_labels = list_gold_label\n",
    "    \n",
    "    if mode == \"train\":\n",
    "        TFIDF_vect = TfidfVectorizer()\n",
    "        TFIDF_vect.fit(corpus)\n",
    "\n",
    "        with open('model/TFIDF.pickle', \"wb\") as file:\n",
    "            pickle.dump(TFIDF_vect, file)\n",
    "\n",
    "    elif mode == \"test\":\n",
    "        with open('model/TFIDF.pickle', \"rb\") as file:\n",
    "            TFIDF_vect = pickle.load(file)\n",
    "\n",
    "    else:\n",
    "        print(\"Invalid mode selection\")\n",
    "        exit(0)\n",
    "    # Generate TFIDF representations for out dataset\n",
    "    tfidf_sentecnce1 = TFIDF_vect.transform(corpus_sentence1)\n",
    "    tfidf_sentecnce2 = TFIDF_vect.transform(corpus_sentence2)\n",
    "    tfidf_feature_array = scipy.sparse.hstack((tfidf_sentecnce1, tfidf_sentecnce2))\n",
    "\n",
    "    return tfidf_feature_array, tfidf_labels"
   ]
  },
  {
   "cell_type": "code",
   "execution_count": 4,
   "id": "93d5dbdf",
   "metadata": {},
   "outputs": [],
   "source": [
    "def logistic_regression_train(train_data):\n",
    "    # Obtain the TFIDF features\n",
    "    train_feature, train_label = TFIDF_features(train_data, \"train\")\n",
    "\n",
    "    # Train the logistic regression model\n",
    "    LR_model = LogisticRegression(random_state=0, max_iter=1000, solver='lbfgs', multi_class='auto')\n",
    "    LR_model.fit(train_feature, train_label)\n",
    "    \n",
    "    # Save the logistic regression model as a pickle file\n",
    "    with open('model/LR.pickle', \"wb\") as file:\n",
    "        pickle.dump(LR_model, file)\n",
    "\n",
    "    print(\"Training complete.\\n\")\n"
   ]
  },
  {
   "cell_type": "code",
   "execution_count": 35,
   "id": "3b59202e",
   "metadata": {},
   "outputs": [],
   "source": [
    "# Loads and tests the logistic regression model\n",
    "test_label_original = []\n",
    "predicted_label = []\n",
    "def logistic_regression_test(test_data):\n",
    "    # Obtain the TFIDF features\n",
    "    test_feature, test_label = TFIDF_features(test_data, \"test\")\n",
    "    #print(\"Demo original label: \",test_label[0])\n",
    "    test_label_original.append(test_label)\n",
    "    # Loads the logistic regression model from pickle file\n",
    "    with open('model/LR.pickle', \"rb\") as file:\n",
    "        LR_model = pickle.load(file)\n",
    "\n",
    "    # Tests the logistic regression model\n",
    "    pred_labels = LR_model.predict(test_feature)\n",
    "    predicted_label.append(pred_labels)\n",
    "    #print(\"Demo predicted label: \",pred_labels)\n",
    "    if pred_labels == 0:\n",
    "        label = \"entailments\"\n",
    "    elif pred_labels == 1:\n",
    "        label = \"neutral\\n\"\n",
    "    elif pred_labels == 2:\n",
    "        label = \"contradiction\\n\"\n",
    "    \n",
    "\n",
    "    # Evaluate and print the results\n",
    "    score = LR_model.score(test_feature, test_label) * 100 \n",
    "    #print(\"The classification accuracy for Logistic regression with TF-IDF features is {:.2f}%.\".format(score))\n",
    "    print(label)"
   ]
  },
  {
   "cell_type": "code",
   "execution_count": 6,
   "id": "22bcea78",
   "metadata": {},
   "outputs": [],
   "source": [
    "train_data = generate_dataset('xnli_hi_train.json')\n",
    "test_data = generate_dataset('xnli_hi_test.json')"
   ]
  },
  {
   "cell_type": "code",
   "execution_count": 7,
   "id": "835c837c",
   "metadata": {},
   "outputs": [
    {
     "name": "stdout",
     "output_type": "stream",
     "text": [
      "Training complete.\n",
      "\n"
     ]
    }
   ],
   "source": [
    "logistic_regression_train(train_data)"
   ]
  },
  {
   "cell_type": "code",
   "execution_count": 8,
   "id": "9f45e729",
   "metadata": {},
   "outputs": [
    {
     "name": "stdout",
     "output_type": "stream",
     "text": [
      "Demo original label:  2\n",
      "Demo predicted label:  [2 1 1 ... 1 1 1]\n",
      "The classification accuracy for Logistic regression with TF-IDF features is 49.94%.\n"
     ]
    }
   ],
   "source": [
    "logistic_regression_test(test_data)"
   ]
  },
  {
   "cell_type": "code",
   "execution_count": 9,
   "id": "76b4255a",
   "metadata": {},
   "outputs": [
    {
     "name": "stdout",
     "output_type": "stream",
     "text": [
      "              precision    recall  f1-score   support\n",
      "\n",
      "           0       0.47      0.49      0.48      1670\n",
      "           1       0.47      0.46      0.46      1670\n",
      "           2       0.57      0.55      0.56      1670\n",
      "\n",
      "    accuracy                           0.50      5010\n",
      "   macro avg       0.50      0.50      0.50      5010\n",
      "weighted avg       0.50      0.50      0.50      5010\n",
      "\n"
     ]
    }
   ],
   "source": [
    "from sklearn.metrics import classification_report\n",
    "print(classification_report(test_label_original[0],predicted_label[0]))"
   ]
  },
  {
   "cell_type": "code",
   "execution_count": 22,
   "id": "6d07906b",
   "metadata": {},
   "outputs": [
    {
     "name": "stdout",
     "output_type": "stream",
     "text": [
      "[[817 487 366]\n",
      " [575 761 334]\n",
      " [358 388 924]]\n"
     ]
    }
   ],
   "source": [
    "from sklearn.metrics import confusion_matrix\n",
    "print(confusion_matrix(test_label_original[0],predicted_label[0]))"
   ]
  },
  {
   "cell_type": "code",
   "execution_count": 24,
   "id": "a57b04db",
   "metadata": {},
   "outputs": [
    {
     "data": {
      "image/png": "[encoded data removed]",
      "text/plain": [
       "<Figure size 540x540 with 1 Axes>"
      ]
     },
     "metadata": {
      "needs_background": "light"
     },
     "output_type": "display_data"
    }
   ],
   "source": [
    "# Print the confusion matrix using Matplotlib\n",
    "#\n",
    "import matplotlib.pyplot as plt\n",
    "conf_matrix = confusion_matrix(test_label_original[0],predicted_label[0])\n",
    "fig, ax = plt.subplots(figsize=(7.5, 7.5))\n",
    "ax.matshow(conf_matrix, cmap=plt.cm.Blues, alpha=0.3)\n",
    "for i in range(conf_matrix.shape[0]):\n",
    "    for j in range(conf_matrix.shape[1]):\n",
    "        ax.text(x=j, y=i,s=conf_matrix[i, j], va='center', ha='center', size='xx-large')\n",
    "\n",
    "plt.xlabel('Predictions', fontsize=18)\n",
    "plt.ylabel('Actuals', fontsize=18)\n",
    "plt.title('Confusion Matrix', fontsize=18)\n",
    "plt.show()"
   ]
  },
  {
   "cell_type": "code",
   "execution_count": 79,
   "id": "367a57ee",
   "metadata": {},
   "outputs": [],
   "source": [
    "demo = generate_dataset('demo_LR.json')"
   ]
  },
  {
   "cell_type": "code",
   "execution_count": 80,
   "id": "42f89fb5",
   "metadata": {},
   "outputs": [
    {
     "name": "stdout",
     "output_type": "stream",
     "text": [
      "3 महिलाएं घर में खाना बना रही हैं  , घर में 3 आदमी हैं\n"
     ]
    }
   ],
   "source": [
    "print(demo['premise'][0],',',demo['hypothesis'][0])"
   ]
  },
  {
   "cell_type": "code",
   "execution_count": 81,
   "id": "1637e099",
   "metadata": {},
   "outputs": [
    {
     "name": "stdout",
     "output_type": "stream",
     "text": [
      "neutral\n",
      "\n"
     ]
    }
   ],
   "source": [
    "logistic_regression_test(demo)"
   ]
  },
  {
   "cell_type": "code",
   "execution_count": 12,
   "id": "63234e0e",
   "metadata": {},
   "outputs": [
    {
     "data": {
      "text/plain": [
       "(392702, 3)"
      ]
     },
     "execution_count": 12,
     "metadata": {},
     "output_type": "execute_result"
    }
   ],
   "source": [
    "train_data.shape"
   ]
  },
  {
   "cell_type": "code",
   "execution_count": 13,
   "id": "29153129",
   "metadata": {},
   "outputs": [],
   "source": [
    "X = train_data[0:151300]"
   ]
  },
  {
   "cell_type": "code",
   "execution_count": 15,
   "id": "bce325ed",
   "metadata": {},
   "outputs": [
    {
     "data": {
      "text/plain": [
       "(151300, 3)"
      ]
     },
     "execution_count": 15,
     "metadata": {},
     "output_type": "execute_result"
    }
   ],
   "source": [
    "X.shape"
   ]
  },
  {
   "cell_type": "code",
   "execution_count": 20,
   "id": "1ddbc98a",
   "metadata": {},
   "outputs": [],
   "source": [
    "test_feature, test_label = TFIDF_features(train_data, \"test\")"
   ]
  },
  {
   "cell_type": "code",
   "execution_count": 21,
   "id": "777a6c70",
   "metadata": {},
   "outputs": [
    {
     "data": {
      "text/plain": [
       "(392702, 27776)"
      ]
     },
     "execution_count": 21,
     "metadata": {},
     "output_type": "execute_result"
    }
   ],
   "source": [
    "test_feature.shape"
   ]
  },
  {
   "cell_type": "code",
   "execution_count": null,
   "id": "88a6154c",
   "metadata": {},
   "outputs": [],
   "source": []
  }
 ],
 "metadata": {
  "kernelspec": {
   "display_name": "Python 3",
   "language": "python",
   "name": "python3"
  },
  "language_info": {
   "codemirror_mode": {
    "name": "ipython",
    "version": 3
   },
   "file_extension": ".py",
   "mimetype": "text/x-python",
   "name": "python",
   "nbconvert_exporter": "python",
   "pygments_lexer": "ipython3",
   "version": "3.8.8"
  }
 },
 "nbformat": 4,
 "nbformat_minor": 5
}
